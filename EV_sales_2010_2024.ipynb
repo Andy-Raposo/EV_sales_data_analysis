{
 "cells": [
  {
   "cell_type": "code",
   "execution_count": 2,
   "id": "2d61669f",
   "metadata": {},
   "outputs": [],
   "source": [
    "import pandas as pd\n",
    "import numpy as np\n",
    "import matplotlib.pyplot as plt\n",
    "import seaborn as sns\n",
    "from pprint import pprint\n"
   ]
  },
  {
   "cell_type": "code",
   "execution_count": 3,
   "id": "0bcd42ae",
   "metadata": {},
   "outputs": [],
   "source": [
    "df = pd.read_csv('EV_sales.csv')"
   ]
  },
  {
   "cell_type": "markdown",
   "id": "43dfadfc",
   "metadata": {},
   "source": [
    "### EV Car Sales Between 2010 and 2024\n",
    "\n",
    "#### About this file:\n",
    "- region: Geographical area where the data was collected (e.g., Australia)\n",
    "- category: Nature of the data (e.g., Historical, Projection)\n",
    "- parameter: Type of metric (e.g., EV sales, EV stock share)\n",
    "- mode: Mode of transport (e.g., Cars)\n",
    "- powertrain: Type of EV: BEV (Battery Electric Vehicle), PHEV (Plug-in Hybrid - EV), EV\n",
    "- year: Year of the data point (e.g., 2011, 2012)\n",
    "- unit: Measurement unit (e.g., Vehicles, percent)\n",
    "- value: Actual recorded value\n",
    "\n",
    "#### Objective:\n",
    "\n",
    "To know how are EVs evolving in three European markets (Spain, France and Germany) compared to the tendencies shown in the European Union. We want to know which are evolving faster, what are some strong and weak points, and to do some short term predictions for the year 2030 as per the objectives of the UN's 2030 Agenda."
   ]
  },
  {
   "cell_type": "code",
   "execution_count": 4,
   "id": "21a3317c",
   "metadata": {},
   "outputs": [
    {
     "data": {
      "text/html": [
       "<div>\n",
       "<style scoped>\n",
       "    .dataframe tbody tr th:only-of-type {\n",
       "        vertical-align: middle;\n",
       "    }\n",
       "\n",
       "    .dataframe tbody tr th {\n",
       "        vertical-align: top;\n",
       "    }\n",
       "\n",
       "    .dataframe thead th {\n",
       "        text-align: right;\n",
       "    }\n",
       "</style>\n",
       "<table border=\"1\" class=\"dataframe\">\n",
       "  <thead>\n",
       "    <tr style=\"text-align: right;\">\n",
       "      <th></th>\n",
       "      <th>region</th>\n",
       "      <th>category</th>\n",
       "      <th>parameter</th>\n",
       "      <th>mode</th>\n",
       "      <th>powertrain</th>\n",
       "      <th>year</th>\n",
       "      <th>unit</th>\n",
       "      <th>value</th>\n",
       "    </tr>\n",
       "  </thead>\n",
       "  <tbody>\n",
       "    <tr>\n",
       "      <th>0</th>\n",
       "      <td>Australia</td>\n",
       "      <td>Historical</td>\n",
       "      <td>EV sales</td>\n",
       "      <td>Cars</td>\n",
       "      <td>BEV</td>\n",
       "      <td>2011</td>\n",
       "      <td>Vehicles</td>\n",
       "      <td>49.00000</td>\n",
       "    </tr>\n",
       "    <tr>\n",
       "      <th>1</th>\n",
       "      <td>Australia</td>\n",
       "      <td>Historical</td>\n",
       "      <td>EV stock share</td>\n",
       "      <td>Cars</td>\n",
       "      <td>EV</td>\n",
       "      <td>2011</td>\n",
       "      <td>percent</td>\n",
       "      <td>0.00039</td>\n",
       "    </tr>\n",
       "    <tr>\n",
       "      <th>2</th>\n",
       "      <td>Australia</td>\n",
       "      <td>Historical</td>\n",
       "      <td>EV sales share</td>\n",
       "      <td>Cars</td>\n",
       "      <td>EV</td>\n",
       "      <td>2011</td>\n",
       "      <td>percent</td>\n",
       "      <td>0.00650</td>\n",
       "    </tr>\n",
       "    <tr>\n",
       "      <th>3</th>\n",
       "      <td>Australia</td>\n",
       "      <td>Historical</td>\n",
       "      <td>EV stock</td>\n",
       "      <td>Cars</td>\n",
       "      <td>BEV</td>\n",
       "      <td>2011</td>\n",
       "      <td>Vehicles</td>\n",
       "      <td>49.00000</td>\n",
       "    </tr>\n",
       "    <tr>\n",
       "      <th>4</th>\n",
       "      <td>Australia</td>\n",
       "      <td>Historical</td>\n",
       "      <td>EV stock</td>\n",
       "      <td>Cars</td>\n",
       "      <td>BEV</td>\n",
       "      <td>2012</td>\n",
       "      <td>Vehicles</td>\n",
       "      <td>220.00000</td>\n",
       "    </tr>\n",
       "  </tbody>\n",
       "</table>\n",
       "</div>"
      ],
      "text/plain": [
       "      region    category       parameter  mode powertrain  year      unit  \\\n",
       "0  Australia  Historical        EV sales  Cars        BEV  2011  Vehicles   \n",
       "1  Australia  Historical  EV stock share  Cars         EV  2011   percent   \n",
       "2  Australia  Historical  EV sales share  Cars         EV  2011   percent   \n",
       "3  Australia  Historical        EV stock  Cars        BEV  2011  Vehicles   \n",
       "4  Australia  Historical        EV stock  Cars        BEV  2012  Vehicles   \n",
       "\n",
       "       value  \n",
       "0   49.00000  \n",
       "1    0.00039  \n",
       "2    0.00650  \n",
       "3   49.00000  \n",
       "4  220.00000  "
      ]
     },
     "execution_count": 4,
     "metadata": {},
     "output_type": "execute_result"
    }
   ],
   "source": [
    "df.head()"
   ]
  },
  {
   "cell_type": "markdown",
   "id": "3f242a7b",
   "metadata": {},
   "source": [
    "The first step, after getting a general idea of how the DF looks, is to drop the data that's not directly relevant or that doesn't provide any meaningful insight, and to leave only those that are worth studying deeper."
   ]
  },
  {
   "cell_type": "code",
   "execution_count": 5,
   "id": "92a6b7c3",
   "metadata": {},
   "outputs": [
    {
     "name": "stdout",
     "output_type": "stream",
     "text": [
      "<class 'pandas.core.frame.DataFrame'>\n",
      "RangeIndex: 3798 entries, 0 to 3797\n",
      "Data columns (total 8 columns):\n",
      " #   Column      Non-Null Count  Dtype  \n",
      "---  ------      --------------  -----  \n",
      " 0   region      3798 non-null   object \n",
      " 1   category    3798 non-null   object \n",
      " 2   parameter   3798 non-null   object \n",
      " 3   mode        3798 non-null   object \n",
      " 4   powertrain  3798 non-null   object \n",
      " 5   year        3798 non-null   int64  \n",
      " 6   unit        3798 non-null   object \n",
      " 7   value       3798 non-null   float64\n",
      "dtypes: float64(1), int64(1), object(6)\n",
      "memory usage: 237.5+ KB\n"
     ]
    }
   ],
   "source": [
    "df.info()"
   ]
  },
  {
   "cell_type": "code",
   "execution_count": 6,
   "id": "d5d72663",
   "metadata": {},
   "outputs": [
    {
     "name": "stdout",
     "output_type": "stream",
     "text": [
      "region's unique values:\n",
      "['Australia' 'Austria' 'Belgium' 'Brazil' 'Bulgaria' 'Canada' 'Chile'\n",
      " 'China' 'Colombia' 'Costa Rica' 'Croatia' 'Cyprus' 'Czech Republic'\n",
      " 'Denmark' 'Estonia' 'EU27' 'Europe' 'Finland' 'France' 'Germany' 'Greece'\n",
      " 'Hungary' 'Iceland' 'India' 'Ireland' 'Israel' 'Italy' 'Japan' 'Korea'\n",
      " 'Latvia' 'Lithuania' 'Luxembourg' 'Mexico' 'Netherlands' 'New Zealand'\n",
      " 'Norway' 'Poland' 'Portugal' 'Rest of the world' 'Romania' 'Seychelles'\n",
      " 'Slovakia' 'Slovenia' 'South Africa' 'Spain' 'Sweden' 'Switzerland'\n",
      " 'Turkiye' 'United Arab Emirates' 'United Kingdom' 'USA' 'World']\n",
      "\n",
      "category's unique values:\n",
      "['Historical']\n",
      "\n",
      "parameter's unique values:\n",
      "['EV sales' 'EV stock share' 'EV sales share' 'EV stock'\n",
      " 'Electricity demand' 'Oil displacement Mbd'\n",
      " 'Oil displacement, million lge']\n",
      "\n",
      "mode's unique values:\n",
      "['Cars']\n",
      "\n",
      "powertrain's unique values:\n",
      "['BEV' 'EV' 'PHEV' 'FCEV']\n",
      "\n",
      "year's unique values:\n",
      "[2011 2012 2013 2014 2015 2016 2017 2018 2019 2020 2021 2022 2023 2010]\n",
      "\n",
      "unit's unique values:\n",
      "['Vehicles' 'percent' 'GWh' 'Milion barrels per day'\n",
      " 'Oil displacement, million lge']\n",
      "\n"
     ]
    }
   ],
   "source": [
    "columns = ['region', 'category', 'parameter', 'mode', 'powertrain', 'year', 'unit']\n",
    "\n",
    "for column in columns:\n",
    "    print(f\"{column}'s unique values:\\n{df[column].unique()}\\n\")"
   ]
  },
  {
   "cell_type": "markdown",
   "id": "a540f10b",
   "metadata": {},
   "source": [
    "Since both the \"category\" and the \"mode\" columns do not add any meaningful information to the database, it is safe to say we can drop them entirely from it, keeping in mind that all data is based on actual recorded measurements, and that all the vehicles present in the database are EV cars."
   ]
  },
  {
   "cell_type": "code",
   "execution_count": 7,
   "id": "4702c9e2",
   "metadata": {},
   "outputs": [],
   "source": [
    "df = df.drop(columns=['category', 'mode'])"
   ]
  },
  {
   "cell_type": "markdown",
   "id": "a900f848",
   "metadata": {},
   "source": [
    "Additionally, since we are analysing only EV sales and their share in the market overall, it is safe to assume there is more information stored within the database than we need. Hence, it is necessary to clean up the data to keep only what is currently relevant for our study."
   ]
  },
  {
   "cell_type": "code",
   "execution_count": 8,
   "id": "82b522bc",
   "metadata": {},
   "outputs": [
    {
     "data": {
      "text/plain": [
       "array(['Vehicles', 'percent'], dtype=object)"
      ]
     },
     "execution_count": 8,
     "metadata": {},
     "output_type": "execute_result"
    }
   ],
   "source": [
    "# Method A: By keeping only rows where the boolean returns \"True\"\n",
    "units_to_remove = ['GWh', 'Milion barrels per day', 'Oil displacement, million lge']\n",
    "df_units_cleaned = df[~df['unit'].isin(units_to_remove)]\n",
    "# '~' negates the condition: it keeps only rows NOT containing unwanted units\n",
    "df_units_cleaned['unit'].unique()"
   ]
  },
  {
   "cell_type": "code",
   "execution_count": 9,
   "id": "59915053",
   "metadata": {},
   "outputs": [
    {
     "data": {
      "text/plain": [
       "array(['EV sales', 'EV stock share', 'EV sales share', 'EV stock'],\n",
       "      dtype=object)"
      ]
     },
     "execution_count": 9,
     "metadata": {},
     "output_type": "execute_result"
    }
   ],
   "source": [
    "# Method B: By creating a copy only with the rows we want to keep\n",
    "ev_parameters = ['EV sales', 'EV stock', 'EV sales share', 'EV stock share']\n",
    "df_clean = df_units_cleaned[df_units_cleaned['parameter'].isin(ev_parameters)].copy()\n",
    "df_clean['parameter'].unique()"
   ]
  },
  {
   "cell_type": "markdown",
   "id": "11aec638",
   "metadata": {},
   "source": [
    "Note: Since both are directly correlated, by using only one of the previous steps, the database is already cleant. This is only for demonstration purposes."
   ]
  },
  {
   "cell_type": "code",
   "execution_count": 10,
   "id": "6fde4845",
   "metadata": {},
   "outputs": [
    {
     "data": {
      "text/html": [
       "<div>\n",
       "<style scoped>\n",
       "    .dataframe tbody tr th:only-of-type {\n",
       "        vertical-align: middle;\n",
       "    }\n",
       "\n",
       "    .dataframe tbody tr th {\n",
       "        vertical-align: top;\n",
       "    }\n",
       "\n",
       "    .dataframe thead th {\n",
       "        text-align: right;\n",
       "    }\n",
       "</style>\n",
       "<table border=\"1\" class=\"dataframe\">\n",
       "  <thead>\n",
       "    <tr style=\"text-align: right;\">\n",
       "      <th></th>\n",
       "      <th>region</th>\n",
       "      <th>parameter</th>\n",
       "      <th>powertrain</th>\n",
       "      <th>year</th>\n",
       "      <th>unit</th>\n",
       "      <th>value</th>\n",
       "    </tr>\n",
       "  </thead>\n",
       "  <tbody>\n",
       "    <tr>\n",
       "      <th>4</th>\n",
       "      <td>Australia</td>\n",
       "      <td>EV stock</td>\n",
       "      <td>BEV</td>\n",
       "      <td>2012</td>\n",
       "      <td>Vehicles</td>\n",
       "      <td>220.0000</td>\n",
       "    </tr>\n",
       "    <tr>\n",
       "      <th>5</th>\n",
       "      <td>Australia</td>\n",
       "      <td>EV stock</td>\n",
       "      <td>PHEV</td>\n",
       "      <td>2012</td>\n",
       "      <td>Vehicles</td>\n",
       "      <td>80.0000</td>\n",
       "    </tr>\n",
       "    <tr>\n",
       "      <th>6</th>\n",
       "      <td>Australia</td>\n",
       "      <td>EV sales</td>\n",
       "      <td>PHEV</td>\n",
       "      <td>2012</td>\n",
       "      <td>Vehicles</td>\n",
       "      <td>80.0000</td>\n",
       "    </tr>\n",
       "    <tr>\n",
       "      <th>7</th>\n",
       "      <td>Australia</td>\n",
       "      <td>EV sales share</td>\n",
       "      <td>EV</td>\n",
       "      <td>2012</td>\n",
       "      <td>percent</td>\n",
       "      <td>0.0300</td>\n",
       "    </tr>\n",
       "    <tr>\n",
       "      <th>8</th>\n",
       "      <td>Australia</td>\n",
       "      <td>EV stock share</td>\n",
       "      <td>EV</td>\n",
       "      <td>2012</td>\n",
       "      <td>percent</td>\n",
       "      <td>0.0024</td>\n",
       "    </tr>\n",
       "    <tr>\n",
       "      <th>9</th>\n",
       "      <td>Australia</td>\n",
       "      <td>EV sales</td>\n",
       "      <td>BEV</td>\n",
       "      <td>2012</td>\n",
       "      <td>Vehicles</td>\n",
       "      <td>170.0000</td>\n",
       "    </tr>\n",
       "  </tbody>\n",
       "</table>\n",
       "</div>"
      ],
      "text/plain": [
       "      region       parameter powertrain  year      unit     value\n",
       "4  Australia        EV stock        BEV  2012  Vehicles  220.0000\n",
       "5  Australia        EV stock       PHEV  2012  Vehicles   80.0000\n",
       "6  Australia        EV sales       PHEV  2012  Vehicles   80.0000\n",
       "7  Australia  EV sales share         EV  2012   percent    0.0300\n",
       "8  Australia  EV stock share         EV  2012   percent    0.0024\n",
       "9  Australia        EV sales        BEV  2012  Vehicles  170.0000"
      ]
     },
     "execution_count": 10,
     "metadata": {},
     "output_type": "execute_result"
    }
   ],
   "source": [
    "df_clean[(df_clean['region']=='Australia') & (df_clean['year']==2012)]"
   ]
  },
  {
   "cell_type": "markdown",
   "id": "3a3a5629",
   "metadata": {},
   "source": [
    "In the previous cell, we can observe that there are two different key units in this database to differenciate — Vehicle counts (physical stock and sales) and Percentages, over the total population of vehicles. The two units cannot be superposed, so it is necessary to separate them in two different sub-dataframes to analyse individually."
   ]
  },
  {
   "cell_type": "code",
   "execution_count": 11,
   "id": "0a4fc86f",
   "metadata": {},
   "outputs": [],
   "source": [
    "df_vehicles = df[df['unit'] == 'Vehicles']\n",
    "df_percent = df[df['unit'] == 'percent']"
   ]
  },
  {
   "cell_type": "markdown",
   "id": "c7d29e96",
   "metadata": {},
   "source": [
    "Additionally, in df_vehicles, since all values must be integers (can't sell/stock half a car) the following helps making data clearer:"
   ]
  },
  {
   "cell_type": "code",
   "execution_count": 12,
   "id": "a1e88f04",
   "metadata": {},
   "outputs": [],
   "source": [
    "df_vehicles.loc[:, 'value'] = df_vehicles.loc[:, 'value'].astype(int)"
   ]
  },
  {
   "cell_type": "markdown",
   "id": "7fe1d003",
   "metadata": {},
   "source": [
    "Let's see what powertrain counts can be observed in the database for vehicles sold, so we can get an idea of what categories we can find:"
   ]
  },
  {
   "cell_type": "code",
   "execution_count": 13,
   "id": "11a6842e",
   "metadata": {},
   "outputs": [
    {
     "data": {
      "text/plain": [
       "powertrain\n",
       "BEV     1078\n",
       "PHEV     922\n",
       "FCEV     487\n",
       "Name: count, dtype: int64"
      ]
     },
     "execution_count": 13,
     "metadata": {},
     "output_type": "execute_result"
    }
   ],
   "source": [
    "df_vehicles['powertrain'].value_counts()"
   ]
  },
  {
   "cell_type": "markdown",
   "id": "34f1e7b9",
   "metadata": {},
   "source": [
    "If we do the same with the newly created df_percent DF, we can observe that only one category 'EV' appears. That's because an electric vehicle usually comprehends any vehicle that can move fully on battery power, and PHEVs can do so even if the main power is usually the ICE engine. "
   ]
  },
  {
   "cell_type": "code",
   "execution_count": 14,
   "id": "9fb4707a",
   "metadata": {},
   "outputs": [
    {
     "data": {
      "text/plain": [
       "powertrain\n",
       "EV    1068\n",
       "Name: count, dtype: int64"
      ]
     },
     "execution_count": 14,
     "metadata": {},
     "output_type": "execute_result"
    }
   ],
   "source": [
    "df_percent['powertrain'].value_counts()"
   ]
  },
  {
   "cell_type": "markdown",
   "id": "c32052e1",
   "metadata": {},
   "source": [
    "### 1. Sales Figures"
   ]
  },
  {
   "cell_type": "code",
   "execution_count": 15,
   "id": "0d51bafa",
   "metadata": {},
   "outputs": [
    {
     "data": {
      "text/plain": [
       "parameter\n",
       "EV sales    1342\n",
       "EV stock    1145\n",
       "Name: count, dtype: int64"
      ]
     },
     "execution_count": 15,
     "metadata": {},
     "output_type": "execute_result"
    }
   ],
   "source": [
    "df_vehicles['parameter'].value_counts()"
   ]
  },
  {
   "cell_type": "markdown",
   "id": "99d3be85",
   "metadata": {},
   "source": [
    "As we can observe, the database contains two distinct parameters for measuring electric vehicles: EV stock and EV sales. EV stock represents the total number of electric vehicles available in a country at a given time, while EV sales represent the number of vehicles actually sold during a specific period. Naturally, sales numbers should always be lower than stock, but analyzing the gap between them over recent years can offer valuable insights into the market’s growth dynamics and saturation levels.\n",
    "\n",
    "The following distinction will be made, hence, to accomodate these two different data types."
   ]
  },
  {
   "cell_type": "code",
   "execution_count": 16,
   "id": "cb22994c",
   "metadata": {},
   "outputs": [],
   "source": [
    "df_vehicles_sales = df_vehicles[df_vehicles['parameter'] == 'EV sales']\n",
    "df_vehicles_stock = df_vehicles[df_vehicles['parameter'] == 'EV stock']"
   ]
  },
  {
   "cell_type": "markdown",
   "id": "1c46c349",
   "metadata": {},
   "source": [
    "### 1.1. EV Sales\n",
    "\n",
    "First, lets analyse EV sales... how have they evolved in the world? In what categories are they classified? The analysis includes several overviews with insights regarding evolution through the years. All columns offer essential data regarding region and their own EV market evolution, as well as how each specific EV powertrain is doing in those regions...\n",
    "\n",
    "But first of all, let's see the table we'll be working with to see if anything needs some work."
   ]
  },
  {
   "cell_type": "code",
   "execution_count": 17,
   "id": "17631f77",
   "metadata": {},
   "outputs": [
    {
     "data": {
      "text/html": [
       "<div>\n",
       "<style scoped>\n",
       "    .dataframe tbody tr th:only-of-type {\n",
       "        vertical-align: middle;\n",
       "    }\n",
       "\n",
       "    .dataframe tbody tr th {\n",
       "        vertical-align: top;\n",
       "    }\n",
       "\n",
       "    .dataframe thead th {\n",
       "        text-align: right;\n",
       "    }\n",
       "</style>\n",
       "<table border=\"1\" class=\"dataframe\">\n",
       "  <thead>\n",
       "    <tr style=\"text-align: right;\">\n",
       "      <th></th>\n",
       "      <th>region</th>\n",
       "      <th>parameter</th>\n",
       "      <th>powertrain</th>\n",
       "      <th>year</th>\n",
       "      <th>unit</th>\n",
       "      <th>value</th>\n",
       "    </tr>\n",
       "  </thead>\n",
       "  <tbody>\n",
       "    <tr>\n",
       "      <th>0</th>\n",
       "      <td>Australia</td>\n",
       "      <td>EV sales</td>\n",
       "      <td>BEV</td>\n",
       "      <td>2011</td>\n",
       "      <td>Vehicles</td>\n",
       "      <td>49.0</td>\n",
       "    </tr>\n",
       "    <tr>\n",
       "      <th>6</th>\n",
       "      <td>Australia</td>\n",
       "      <td>EV sales</td>\n",
       "      <td>PHEV</td>\n",
       "      <td>2012</td>\n",
       "      <td>Vehicles</td>\n",
       "      <td>80.0</td>\n",
       "    </tr>\n",
       "    <tr>\n",
       "      <th>9</th>\n",
       "      <td>Australia</td>\n",
       "      <td>EV sales</td>\n",
       "      <td>BEV</td>\n",
       "      <td>2012</td>\n",
       "      <td>Vehicles</td>\n",
       "      <td>170.0</td>\n",
       "    </tr>\n",
       "    <tr>\n",
       "      <th>10</th>\n",
       "      <td>Australia</td>\n",
       "      <td>EV sales</td>\n",
       "      <td>BEV</td>\n",
       "      <td>2013</td>\n",
       "      <td>Vehicles</td>\n",
       "      <td>190.0</td>\n",
       "    </tr>\n",
       "    <tr>\n",
       "      <th>13</th>\n",
       "      <td>Australia</td>\n",
       "      <td>EV sales</td>\n",
       "      <td>PHEV</td>\n",
       "      <td>2013</td>\n",
       "      <td>Vehicles</td>\n",
       "      <td>100.0</td>\n",
       "    </tr>\n",
       "    <tr>\n",
       "      <th>...</th>\n",
       "      <td>...</td>\n",
       "      <td>...</td>\n",
       "      <td>...</td>\n",
       "      <td>...</td>\n",
       "      <td>...</td>\n",
       "      <td>...</td>\n",
       "    </tr>\n",
       "    <tr>\n",
       "      <th>3781</th>\n",
       "      <td>World</td>\n",
       "      <td>EV sales</td>\n",
       "      <td>FCEV</td>\n",
       "      <td>2022</td>\n",
       "      <td>Vehicles</td>\n",
       "      <td>15000.0</td>\n",
       "    </tr>\n",
       "    <tr>\n",
       "      <th>3783</th>\n",
       "      <td>World</td>\n",
       "      <td>EV sales</td>\n",
       "      <td>PHEV</td>\n",
       "      <td>2022</td>\n",
       "      <td>Vehicles</td>\n",
       "      <td>2900000.0</td>\n",
       "    </tr>\n",
       "    <tr>\n",
       "      <th>3788</th>\n",
       "      <td>World</td>\n",
       "      <td>EV sales</td>\n",
       "      <td>PHEV</td>\n",
       "      <td>2023</td>\n",
       "      <td>Vehicles</td>\n",
       "      <td>4300000.0</td>\n",
       "    </tr>\n",
       "    <tr>\n",
       "      <th>3792</th>\n",
       "      <td>World</td>\n",
       "      <td>EV sales</td>\n",
       "      <td>FCEV</td>\n",
       "      <td>2023</td>\n",
       "      <td>Vehicles</td>\n",
       "      <td>8900.0</td>\n",
       "    </tr>\n",
       "    <tr>\n",
       "      <th>3794</th>\n",
       "      <td>World</td>\n",
       "      <td>EV sales</td>\n",
       "      <td>BEV</td>\n",
       "      <td>2023</td>\n",
       "      <td>Vehicles</td>\n",
       "      <td>9500000.0</td>\n",
       "    </tr>\n",
       "  </tbody>\n",
       "</table>\n",
       "<p>1342 rows × 6 columns</p>\n",
       "</div>"
      ],
      "text/plain": [
       "         region parameter powertrain  year      unit      value\n",
       "0     Australia  EV sales        BEV  2011  Vehicles       49.0\n",
       "6     Australia  EV sales       PHEV  2012  Vehicles       80.0\n",
       "9     Australia  EV sales        BEV  2012  Vehicles      170.0\n",
       "10    Australia  EV sales        BEV  2013  Vehicles      190.0\n",
       "13    Australia  EV sales       PHEV  2013  Vehicles      100.0\n",
       "...         ...       ...        ...   ...       ...        ...\n",
       "3781      World  EV sales       FCEV  2022  Vehicles    15000.0\n",
       "3783      World  EV sales       PHEV  2022  Vehicles  2900000.0\n",
       "3788      World  EV sales       PHEV  2023  Vehicles  4300000.0\n",
       "3792      World  EV sales       FCEV  2023  Vehicles     8900.0\n",
       "3794      World  EV sales        BEV  2023  Vehicles  9500000.0\n",
       "\n",
       "[1342 rows x 6 columns]"
      ]
     },
     "execution_count": 17,
     "metadata": {},
     "output_type": "execute_result"
    }
   ],
   "source": [
    "df_vehicles_sales"
   ]
  },
  {
   "cell_type": "code",
   "execution_count": 18,
   "id": "db54f67d",
   "metadata": {},
   "outputs": [
    {
     "name": "stdout",
     "output_type": "stream",
     "text": [
      "parameter's unique values: \n",
      "['EV sales']\n",
      "\n",
      "unit's unique values: \n",
      "['Vehicles']\n",
      "\n"
     ]
    }
   ],
   "source": [
    "columns = ['parameter', 'unit']\n",
    "\n",
    "for column in columns:\n",
    "    print(f\"{column}'s unique values: \\n{df_vehicles_sales[column].unique()}\\n\")"
   ]
  },
  {
   "cell_type": "markdown",
   "id": "035b4c7d",
   "metadata": {},
   "source": [
    "As expected, what were some essential columns previously, are now unnecessary as they do not provide any relevant information. These are known as \"temporary indexing columns\" and, in the four sub-databases we created, they will be deleted."
   ]
  },
  {
   "cell_type": "code",
   "execution_count": 19,
   "id": "48cefe35",
   "metadata": {},
   "outputs": [],
   "source": [
    "df_vehicles_sales = df_vehicles_sales.drop(['parameter','unit'], axis=1)"
   ]
  },
  {
   "cell_type": "code",
   "execution_count": 20,
   "id": "85f26005",
   "metadata": {},
   "outputs": [
    {
     "data": {
      "text/html": [
       "<div>\n",
       "<style scoped>\n",
       "    .dataframe tbody tr th:only-of-type {\n",
       "        vertical-align: middle;\n",
       "    }\n",
       "\n",
       "    .dataframe tbody tr th {\n",
       "        vertical-align: top;\n",
       "    }\n",
       "\n",
       "    .dataframe thead th {\n",
       "        text-align: right;\n",
       "    }\n",
       "</style>\n",
       "<table border=\"1\" class=\"dataframe\">\n",
       "  <thead>\n",
       "    <tr style=\"text-align: right;\">\n",
       "      <th></th>\n",
       "      <th>region</th>\n",
       "      <th>powertrain</th>\n",
       "      <th>year</th>\n",
       "      <th>value</th>\n",
       "    </tr>\n",
       "  </thead>\n",
       "  <tbody>\n",
       "    <tr>\n",
       "      <th>0</th>\n",
       "      <td>Australia</td>\n",
       "      <td>BEV</td>\n",
       "      <td>2011</td>\n",
       "      <td>49.0</td>\n",
       "    </tr>\n",
       "    <tr>\n",
       "      <th>6</th>\n",
       "      <td>Australia</td>\n",
       "      <td>PHEV</td>\n",
       "      <td>2012</td>\n",
       "      <td>80.0</td>\n",
       "    </tr>\n",
       "    <tr>\n",
       "      <th>9</th>\n",
       "      <td>Australia</td>\n",
       "      <td>BEV</td>\n",
       "      <td>2012</td>\n",
       "      <td>170.0</td>\n",
       "    </tr>\n",
       "    <tr>\n",
       "      <th>10</th>\n",
       "      <td>Australia</td>\n",
       "      <td>BEV</td>\n",
       "      <td>2013</td>\n",
       "      <td>190.0</td>\n",
       "    </tr>\n",
       "    <tr>\n",
       "      <th>13</th>\n",
       "      <td>Australia</td>\n",
       "      <td>PHEV</td>\n",
       "      <td>2013</td>\n",
       "      <td>100.0</td>\n",
       "    </tr>\n",
       "    <tr>\n",
       "      <th>...</th>\n",
       "      <td>...</td>\n",
       "      <td>...</td>\n",
       "      <td>...</td>\n",
       "      <td>...</td>\n",
       "    </tr>\n",
       "    <tr>\n",
       "      <th>3781</th>\n",
       "      <td>World</td>\n",
       "      <td>FCEV</td>\n",
       "      <td>2022</td>\n",
       "      <td>15000.0</td>\n",
       "    </tr>\n",
       "    <tr>\n",
       "      <th>3783</th>\n",
       "      <td>World</td>\n",
       "      <td>PHEV</td>\n",
       "      <td>2022</td>\n",
       "      <td>2900000.0</td>\n",
       "    </tr>\n",
       "    <tr>\n",
       "      <th>3788</th>\n",
       "      <td>World</td>\n",
       "      <td>PHEV</td>\n",
       "      <td>2023</td>\n",
       "      <td>4300000.0</td>\n",
       "    </tr>\n",
       "    <tr>\n",
       "      <th>3792</th>\n",
       "      <td>World</td>\n",
       "      <td>FCEV</td>\n",
       "      <td>2023</td>\n",
       "      <td>8900.0</td>\n",
       "    </tr>\n",
       "    <tr>\n",
       "      <th>3794</th>\n",
       "      <td>World</td>\n",
       "      <td>BEV</td>\n",
       "      <td>2023</td>\n",
       "      <td>9500000.0</td>\n",
       "    </tr>\n",
       "  </tbody>\n",
       "</table>\n",
       "<p>1342 rows × 4 columns</p>\n",
       "</div>"
      ],
      "text/plain": [
       "         region powertrain  year      value\n",
       "0     Australia        BEV  2011       49.0\n",
       "6     Australia       PHEV  2012       80.0\n",
       "9     Australia        BEV  2012      170.0\n",
       "10    Australia        BEV  2013      190.0\n",
       "13    Australia       PHEV  2013      100.0\n",
       "...         ...        ...   ...        ...\n",
       "3781      World       FCEV  2022    15000.0\n",
       "3783      World       PHEV  2022  2900000.0\n",
       "3788      World       PHEV  2023  4300000.0\n",
       "3792      World       FCEV  2023     8900.0\n",
       "3794      World        BEV  2023  9500000.0\n",
       "\n",
       "[1342 rows x 4 columns]"
      ]
     },
     "execution_count": 20,
     "metadata": {},
     "output_type": "execute_result"
    }
   ],
   "source": [
    "df_vehicles_sales"
   ]
  },
  {
   "cell_type": "code",
   "execution_count": 21,
   "id": "20a1c251",
   "metadata": {},
   "outputs": [
    {
     "name": "stdout",
     "output_type": "stream",
     "text": [
      "<class 'pandas.core.frame.DataFrame'>\n",
      "Index: 1342 entries, 0 to 3794\n",
      "Data columns (total 4 columns):\n",
      " #   Column      Non-Null Count  Dtype  \n",
      "---  ------      --------------  -----  \n",
      " 0   region      1342 non-null   object \n",
      " 1   powertrain  1342 non-null   object \n",
      " 2   year        1342 non-null   int64  \n",
      " 3   value       1342 non-null   float64\n",
      "dtypes: float64(1), int64(1), object(2)\n",
      "memory usage: 52.4+ KB\n"
     ]
    }
   ],
   "source": [
    "df_vehicles_sales.info()"
   ]
  },
  {
   "cell_type": "markdown",
   "id": "3b015f55",
   "metadata": {},
   "source": [
    "So we are left with four columns, two of which are objects and help us categorise the data, one, year,  as integer values, and the last one, value, as the basis for the analysis with float values."
   ]
  },
  {
   "cell_type": "code",
   "execution_count": 22,
   "id": "98c5004e",
   "metadata": {},
   "outputs": [
    {
     "data": {
      "image/png": "[encoded data removed]",
      "text/plain": [
       "<Figure size 1100x600 with 1 Axes>"
      ]
     },
     "metadata": {},
     "output_type": "display_data"
    }
   ],
   "source": [
    "countries = ['Spain', 'Germany', 'France', 'EU27']\n",
    "bev_data = df_vehicles_sales.loc[(df_vehicles_sales['powertrain'] == 'BEV') & (df_vehicles_sales['region'].isin(countries))]\n",
    "# Adjusts the EU27 region to show the average between the 27 EU members\n",
    "bev_data.loc[bev_data['region'] == 'EU27', 'value'] /= 27\n",
    "\n",
    "fig, ax = plt.subplots(figsize=(11, 6))\n",
    "\n",
    "palette = {\n",
    "    'Spain': 'red',\n",
    "    'Germany': 'black',\n",
    "    'France': 'blue',\n",
    "    'EU27': 'cyan'\n",
    "}\n",
    "sns.lineplot(data=bev_data, x='year', y='value', hue='region', palette=palette,linestyle='-')\n",
    "\n",
    "ax.set_title('BEV Sales In Different Regions', fontsize=16)\n",
    "ax.set_xlabel('Year', fontsize=12)\n",
    "ax.set_ylabel('EV Car Sales', fontsize=12)\n",
    "ax.grid('True', linestyle='--', alpha=0.6)\n",
    "\n",
    "plt.legend(title='Regions')\n",
    "plt.show()"
   ]
  },
  {
   "cell_type": "markdown",
   "id": "30acef1e",
   "metadata": {},
   "source": [
    "We can already see an astonishing difference between the three countries by looking at the previous graph. Germany, being the biggest economy in the union, shows a way stronger trend towards electrification, pushed through and through by both government and car companies, with a breakthrough of 500k vehicles sold by the year 2023. However, a \n",
    "\n",
    "France, which lags a bit behind, also did an enormous progress with an even higher tendency, breaking the ceiling of 300k EVs sold by the year 2023 and with a way higher growth than Germany's, which we will explain before.\n",
    "\n",
    "It is important to mention how, until the year 2018, sales in Spain and, in average, for the EU, were almost non-existant. Only a few thousand, with the exception of France and Germany in this case which hovered around the 40k sales. The increment afterwards however has been exponential, with the arrival of more mainstream EVs made in France and Germany, more affordable Tesla BEVs, and recent chinese BEVs penetrating these markets.\n",
    "\n",
    "Tendencies, however, diverge. France and Germany show a clear gap, explained partially by the population difference between both countries, but also due to a stronger economy in Germany and more ability to purchase high end EVs where France lagged behind. However, last year showed how German sales stagnated a bit while French ones climbed at at a level never seen before, explained perhaps by more affordable EV cars produced in France, favoured by local consumers.\n",
    "\n",
    "Spain, at the end, has seen a sharp rise last year, but is still under the EU average, with the possibility to break through at this rate if it is followed next year. However, despite being a very strong economy in the union, it is lagging severely behind and shows probably both reluctance by consumers, and a lack of government initiative to push for the transition."
   ]
  },
  {
   "cell_type": "code",
   "execution_count": 23,
   "id": "59ab8dc9",
   "metadata": {},
   "outputs": [
    {
     "data": {
      "text/plain": [
       "0       2011\n",
       "6       2012\n",
       "9       2012\n",
       "10      2013\n",
       "13      2013\n",
       "        ... \n",
       "3781    2022\n",
       "3783    2022\n",
       "3788    2023\n",
       "3792    2023\n",
       "3794    2023\n",
       "Name: year, Length: 1342, dtype: int64"
      ]
     },
     "execution_count": 23,
     "metadata": {},
     "output_type": "execute_result"
    }
   ],
   "source": [
    "df_vehicles_sales['year']"
   ]
  },
  {
   "cell_type": "code",
   "execution_count": 24,
   "id": "92be1470",
   "metadata": {},
   "outputs": [
    {
     "name": "stdout",
     "output_type": "stream",
     "text": [
      "Last year's growth of EV sales was of 47.62% in France, 10.64% in Germany, 72.73% in Spain, while for the European Union it was of 33.33%.\n"
     ]
    }
   ],
   "source": [
    "fr_sales_2023 = df_vehicles_sales.loc[(df_vehicles_sales['powertrain'] == 'BEV') & (df_vehicles_sales['region'] == 'France') & (df_vehicles_sales['year'] == 2023), 'value'].sum()\n",
    "fr_sales_2022 = df_vehicles_sales.loc[(df_vehicles_sales['powertrain'] == 'BEV') & (df_vehicles_sales['region'] == 'France') & (df_vehicles_sales['year'] == 2022), 'value'].sum()\n",
    "\n",
    "ger_sales_2023 = df_vehicles_sales.loc[(df_vehicles_sales['powertrain'] == 'BEV') & (df_vehicles_sales['region'] == 'Germany') & (df_vehicles_sales['year'] == 2023), 'value'].sum()\n",
    "ger_sales_2022 = df_vehicles_sales.loc[(df_vehicles_sales['powertrain'] == 'BEV') & (df_vehicles_sales['region'] == 'Germany') & (df_vehicles_sales['year'] == 2022), 'value'].sum()\n",
    "\n",
    "spa_sales_2023 = df_vehicles_sales.loc[(df_vehicles_sales['powertrain'] == 'BEV') & (df_vehicles_sales['region'] == 'Spain') & (df_vehicles_sales['year'] == 2023), 'value'].sum()\n",
    "spa_sales_2022 = df_vehicles_sales.loc[(df_vehicles_sales['powertrain'] == 'BEV') & (df_vehicles_sales['region'] == 'Spain') & (df_vehicles_sales['year'] == 2022), 'value'].sum()\n",
    "\n",
    "eu27_sales_2023 = df_vehicles_sales.loc[(df_vehicles_sales['powertrain'] == 'BEV') & (df_vehicles_sales['region'] == 'EU27') & (df_vehicles_sales['year'] == 2023), 'value'].sum()\n",
    "eu27_sales_2022 = df_vehicles_sales.loc[(df_vehicles_sales['powertrain'] == 'BEV') & (df_vehicles_sales['region'] == 'EU27') & (df_vehicles_sales['year'] == 2022), 'value'].sum()\n",
    "\n",
    "fr_sales_growth = fr_sales_2023 / fr_sales_2022\n",
    "ger_sales_growth = ger_sales_2023 / ger_sales_2022\n",
    "spa_sales_growth = spa_sales_2023 / spa_sales_2022\n",
    "eu27_sales_growth = eu27_sales_2023 / eu27_sales_2022\n",
    "print(f\"Last year's growth of EV sales was of {(fr_sales_growth-1)*100:.2f}% in France, {(ger_sales_growth-1)*100:.2f}% in Germany, {(spa_sales_growth-1)*100:.2f}% in Spain, while for the European Union it was of {(eu27_sales_growth-1)*100:.2f}%.\")"
   ]
  },
  {
   "cell_type": "markdown",
   "id": "ee1b7ee0",
   "metadata": {},
   "source": [
    "This bit of code is, arguably, excessively long, prone to bugs or errors, and very unreadable. In those cases, especially since the project relies on reusable, clean code that can be used later down the line, it is clear that is not the ideal way to read the evolution of data over the years. That's why down below I will show how to rebuild all of that in a clean, readable function using python's functions.\n",
    "\n",
    "Additionally, clean reusable code allows to obtain directly usable values that can be computed with a simple function call, and the function itself can be easily modified to adapt to other slightly different needs (as with EV percentages, which do not separate by powertrains)."
   ]
  },
  {
   "cell_type": "code",
   "execution_count": 90,
   "id": "8ecc481f",
   "metadata": {},
   "outputs": [],
   "source": [
    "# Reusable percentage evolution function:\n",
    "def per_evo(df, powertrain, region, start_year, end_year, verbose=False):\n",
    "\n",
    "    if start_year == end_year:\n",
    "        raise ValueError(\"Start year and end year cannot be the same.\")\n",
    "    if start_year > end_year:\n",
    "        raise ValueError(\"Start year cannot be higher than end year.\")\n",
    "    if start_year not in df['year'].unique() or end_year not in df['year'].unique():\n",
    "        raise ValueError(\"The years must be within the scope of the database (2010-2023).\")\n",
    "    if powertrain not in df['powertrain'].unique():\n",
    "        raise ValueError(\"Powertrain must be present in the database ('BEV', 'PHEV', 'FCEV').\")\n",
    "    if region not in df['region'].values:\n",
    "        raise ValueError(\"Region must be present in the database.\")\n",
    "\n",
    "    df_clean = df.loc[\n",
    "        (df['powertrain'] == powertrain) &\n",
    "        (df['region'] == region) &\n",
    "        (df['year'].between(start_year, end_year))\n",
    "    ]\n",
    "\n",
    "    if df_clean.empty:\n",
    "        raise ValueError(f\"No data found for {powertrain} in {region} in the period {start_year}-{end_year}.\")\n",
    "\n",
    "    # The following includes the calculation of the values for the region and years specified.\n",
    "\n",
    "    first_value = df_clean.loc[(df_clean['year'] == start_year), 'value'].sum()\n",
    "    last_value = df_clean.loc[(df_clean['year'] == end_year), 'value'].sum()\n",
    "\n",
    "    if first_value == 0:\n",
    "        print(f\"{powertrain} sales in {region} were 0 in {start_year} and {last_value} in {end_year} — probable new market entry.\")\n",
    "        return\n",
    "\n",
    "    per_change = ((last_value / first_value) - 1) * 100\n",
    "\n",
    "    if verbose:\n",
    "        print(f\"For {region} region and {powertrain} powertrain, \"\n",
    "              f\"the percentage change between {start_year} and {end_year} has been of {per_change:.2f}%,\"\n",
    "              f\"\\n with {first_value:.0f} units in {start_year}, and {last_value:.0f} units in {end_year}.\")\n",
    "        return\n",
    "    \n",
    "    return per_change\n",
    "\n",
    "# Usage: per_evo(df_vehicles_sales, 'BEV', 'Germany', 2022, 2023, verbose=True)"
   ]
  },
  {
   "cell_type": "markdown",
   "id": "0ecb3908",
   "metadata": {},
   "source": [
    "The previous extensive function, at first a bit imposing, shows the practicity of Python functions to create reusable clean code that can be easily debugged. Using that, we can then proceed to print the outputs of the same things we calculated in the previous step to show how it works."
   ]
  },
  {
   "cell_type": "code",
   "execution_count": 91,
   "id": "6fedd5d8",
   "metadata": {},
   "outputs": [
    {
     "name": "stdout",
     "output_type": "stream",
     "text": [
      "For Germany region and BEV powertrain, the percentage change between 2022 and 2023 has been of 10.64%,\n",
      " with 470000 units in 2022, and 520000 units in 2023.\n",
      "For France region and BEV powertrain, the percentage change between 2022 and 2023 has been of 47.62%,\n",
      " with 210000 units in 2022, and 310000 units in 2023.\n",
      "For Spain region and BEV powertrain, the percentage change between 2022 and 2023 has been of 72.73%,\n",
      " with 33000 units in 2022, and 57000 units in 2023.\n",
      "For EU27 region and BEV powertrain, the percentage change between 2022 and 2023 has been of 33.33%,\n",
      " with 1200000 units in 2022, and 1600000 units in 2023.\n"
     ]
    }
   ],
   "source": [
    "per_evo(df_vehicles_sales, 'BEV', 'Germany', 2022, 2023, verbose=True)\n",
    "per_evo(df_vehicles_sales, 'BEV', 'France', 2022, 2023, verbose=True)\n",
    "per_evo(df_vehicles_sales, 'BEV', 'Spain', 2022, 2023, verbose=True)\n",
    "per_evo(df_vehicles_sales, 'BEV', 'EU27', 2022, 2023, verbose=True)\n"
   ]
  },
  {
   "cell_type": "markdown",
   "id": "b1ada127",
   "metadata": {},
   "source": [
    "So we can see that in the last year of the scope (whole 2022 and whole 2023), the evolution between those three different European countries was radically different, and hint different tendencies, market expectations related to ecological motivation, economic power and industry expectations.\n",
    "\n",
    "First, Germany, with a growth of only 10.64%, shows that the country did not rise at the pace expected and that sales on fully electric vehicles slowed down that could hint faster early market adaptation halting or government grants on EV vehicles being reduced/removed. It is important mentioning however that, even in that case, they account for almost 1/3rd of all BEV car sales in the European Union, showing they are still leading in the transition. In all cases, the growth was lower than as shown by the EU27, at over 3 times the growth pace.\n",
    "\n",
    "France, on the other side, fared way better. Sales grew almost a 50%, showing increasing full EV adaptation probably caused by increased EV range, more affordable EV vehicles hitting the market and overall a better-than-average growth. They account for $\\frac{310000}{1600000} \\approx 19.4\\%$ of all the BEV sales in 2023, closing the gap with Germany.\n",
    "\n",
    "Finally, Spain, shows a much more reduced market for full electrics with only 57,000 units sold in 2023. However, there has been a growth of nearly 73% in sales, hinting an increasing demand pushed by lower costs, more accessibility to public charging and higher ranges. They do, however, still account for only $\\frac{57000}{1600000} \\approx 3.56\\%$ of all EU sales despite being the second biggest car producer in the union."
   ]
  },
  {
   "cell_type": "code",
   "execution_count": null,
   "id": "61a5ae42",
   "metadata": {},
   "outputs": [],
   "source": []
  },
  {
   "cell_type": "code",
   "execution_count": null,
   "id": "9ea13c49",
   "metadata": {},
   "outputs": [],
   "source": [
    "df_percent_sales = df_percent[df_percent['parameter'] == 'EV sales share']\n",
    "df_percent_stock = df_percent[df_percent['parameter'] == 'EV stock share']"
   ]
  },
  {
   "cell_type": "markdown",
   "id": "06efc3b7",
   "metadata": {},
   "source": [
    "# 1. Introduction\n",
    "# 2. Dataset Overview\n",
    "# 3. Cleaning + Preparation\n",
    "# 4. Key Questions\n",
    "# 5. Exploratory Visualizations\n",
    "# 6. Insights + Observations\n",
    "# 7. Final Thoughts / Recommendations\n"
   ]
  }
 ],
 "metadata": {
  "kernelspec": {
   "display_name": ".venv (3.13.5)",
   "language": "python",
   "name": "python3"
  },
  "language_info": {
   "codemirror_mode": {
    "name": "ipython",
    "version": 3
   },
   "file_extension": ".py",
   "mimetype": "text/x-python",
   "name": "python",
   "nbconvert_exporter": "python",
   "pygments_lexer": "ipython3",
   "version": "3.13.5"
  }
 },
 "nbformat": 4,
 "nbformat_minor": 5
}
