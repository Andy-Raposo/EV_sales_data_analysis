{
 "cells": [
  {
   "cell_type": "code",
   "execution_count": 16,
   "id": "2d61669f",
   "metadata": {},
   "outputs": [],
   "source": [
    "import pandas as pd\n",
    "import numpy as np\n",
    "import matplotlib as plt\n",
    "import seaborn as sns\n",
    "from pprint import pprint\n"
   ]
  },
  {
   "cell_type": "code",
   "execution_count": 2,
   "id": "0bcd42ae",
   "metadata": {},
   "outputs": [],
   "source": [
    "df = pd.read_csv('EV_sales.csv')"
   ]
  },
  {
   "cell_type": "markdown",
   "id": "43dfadfc",
   "metadata": {},
   "source": [
    "### EV Car Sales Between 2010 and 2024\n",
    "\n",
    "#### About this file:\n",
    "- region: Geographical area where the data was collected (e.g., Australia)\n",
    "- category: Nature of the data (e.g., Historical, Projection)\n",
    "- parameter: Type of metric (e.g., EV sales, EV stock share)\n",
    "- mode: Mode of transport (e.g., Cars)\n",
    "- powertrain: Type of EV: BEV (Battery Electric Vehicle), PHEV (Plug-in Hybrid - EV), EV\n",
    "- year: Year of the data point (e.g., 2011, 2012)\n",
    "- unit: Measurement unit (e.g., Vehicles, percent)\n",
    "- value: Actual recorded value"
   ]
  },
  {
   "cell_type": "code",
   "execution_count": 3,
   "id": "21a3317c",
   "metadata": {},
   "outputs": [
    {
     "data": {
      "text/html": [
       "<div>\n",
       "<style scoped>\n",
       "    .dataframe tbody tr th:only-of-type {\n",
       "        vertical-align: middle;\n",
       "    }\n",
       "\n",
       "    .dataframe tbody tr th {\n",
       "        vertical-align: top;\n",
       "    }\n",
       "\n",
       "    .dataframe thead th {\n",
       "        text-align: right;\n",
       "    }\n",
       "</style>\n",
       "<table border=\"1\" class=\"dataframe\">\n",
       "  <thead>\n",
       "    <tr style=\"text-align: right;\">\n",
       "      <th></th>\n",
       "      <th>region</th>\n",
       "      <th>category</th>\n",
       "      <th>parameter</th>\n",
       "      <th>mode</th>\n",
       "      <th>powertrain</th>\n",
       "      <th>year</th>\n",
       "      <th>unit</th>\n",
       "      <th>value</th>\n",
       "    </tr>\n",
       "  </thead>\n",
       "  <tbody>\n",
       "    <tr>\n",
       "      <th>0</th>\n",
       "      <td>Australia</td>\n",
       "      <td>Historical</td>\n",
       "      <td>EV sales</td>\n",
       "      <td>Cars</td>\n",
       "      <td>BEV</td>\n",
       "      <td>2011</td>\n",
       "      <td>Vehicles</td>\n",
       "      <td>49.00000</td>\n",
       "    </tr>\n",
       "    <tr>\n",
       "      <th>1</th>\n",
       "      <td>Australia</td>\n",
       "      <td>Historical</td>\n",
       "      <td>EV stock share</td>\n",
       "      <td>Cars</td>\n",
       "      <td>EV</td>\n",
       "      <td>2011</td>\n",
       "      <td>percent</td>\n",
       "      <td>0.00039</td>\n",
       "    </tr>\n",
       "    <tr>\n",
       "      <th>2</th>\n",
       "      <td>Australia</td>\n",
       "      <td>Historical</td>\n",
       "      <td>EV sales share</td>\n",
       "      <td>Cars</td>\n",
       "      <td>EV</td>\n",
       "      <td>2011</td>\n",
       "      <td>percent</td>\n",
       "      <td>0.00650</td>\n",
       "    </tr>\n",
       "    <tr>\n",
       "      <th>3</th>\n",
       "      <td>Australia</td>\n",
       "      <td>Historical</td>\n",
       "      <td>EV stock</td>\n",
       "      <td>Cars</td>\n",
       "      <td>BEV</td>\n",
       "      <td>2011</td>\n",
       "      <td>Vehicles</td>\n",
       "      <td>49.00000</td>\n",
       "    </tr>\n",
       "    <tr>\n",
       "      <th>4</th>\n",
       "      <td>Australia</td>\n",
       "      <td>Historical</td>\n",
       "      <td>EV stock</td>\n",
       "      <td>Cars</td>\n",
       "      <td>BEV</td>\n",
       "      <td>2012</td>\n",
       "      <td>Vehicles</td>\n",
       "      <td>220.00000</td>\n",
       "    </tr>\n",
       "  </tbody>\n",
       "</table>\n",
       "</div>"
      ],
      "text/plain": [
       "      region    category       parameter  mode powertrain  year      unit  \\\n",
       "0  Australia  Historical        EV sales  Cars        BEV  2011  Vehicles   \n",
       "1  Australia  Historical  EV stock share  Cars         EV  2011   percent   \n",
       "2  Australia  Historical  EV sales share  Cars         EV  2011   percent   \n",
       "3  Australia  Historical        EV stock  Cars        BEV  2011  Vehicles   \n",
       "4  Australia  Historical        EV stock  Cars        BEV  2012  Vehicles   \n",
       "\n",
       "       value  \n",
       "0   49.00000  \n",
       "1    0.00039  \n",
       "2    0.00650  \n",
       "3   49.00000  \n",
       "4  220.00000  "
      ]
     },
     "execution_count": 3,
     "metadata": {},
     "output_type": "execute_result"
    }
   ],
   "source": [
    "df.head()"
   ]
  },
  {
   "cell_type": "markdown",
   "id": "3f242a7b",
   "metadata": {},
   "source": [
    "The first step, after getting a general idea of how the DF looks, is to drop the data that's not directly relevant or that doesn't provide any meaningful insight, and to leave only those that are worth studying deeper."
   ]
  },
  {
   "cell_type": "code",
   "execution_count": 4,
   "id": "92a6b7c3",
   "metadata": {},
   "outputs": [
    {
     "name": "stdout",
     "output_type": "stream",
     "text": [
      "<class 'pandas.core.frame.DataFrame'>\n",
      "RangeIndex: 3798 entries, 0 to 3797\n",
      "Data columns (total 8 columns):\n",
      " #   Column      Non-Null Count  Dtype  \n",
      "---  ------      --------------  -----  \n",
      " 0   region      3798 non-null   object \n",
      " 1   category    3798 non-null   object \n",
      " 2   parameter   3798 non-null   object \n",
      " 3   mode        3798 non-null   object \n",
      " 4   powertrain  3798 non-null   object \n",
      " 5   year        3798 non-null   int64  \n",
      " 6   unit        3798 non-null   object \n",
      " 7   value       3798 non-null   float64\n",
      "dtypes: float64(1), int64(1), object(6)\n",
      "memory usage: 237.5+ KB\n"
     ]
    }
   ],
   "source": [
    "df.info()"
   ]
  },
  {
   "cell_type": "code",
   "execution_count": 23,
   "id": "d5d72663",
   "metadata": {},
   "outputs": [
    {
     "name": "stdout",
     "output_type": "stream",
     "text": [
      "region's unique values:\n",
      "['Australia' 'Austria' 'Belgium' 'Brazil' 'Bulgaria' 'Canada' 'Chile'\n",
      " 'China' 'Colombia' 'Costa Rica' 'Croatia' 'Cyprus' 'Czech Republic'\n",
      " 'Denmark' 'Estonia' 'EU27' 'Europe' 'Finland' 'France' 'Germany' 'Greece'\n",
      " 'Hungary' 'Iceland' 'India' 'Ireland' 'Israel' 'Italy' 'Japan' 'Korea'\n",
      " 'Latvia' 'Lithuania' 'Luxembourg' 'Mexico' 'Netherlands' 'New Zealand'\n",
      " 'Norway' 'Poland' 'Portugal' 'Rest of the world' 'Romania' 'Seychelles'\n",
      " 'Slovakia' 'Slovenia' 'South Africa' 'Spain' 'Sweden' 'Switzerland'\n",
      " 'Turkiye' 'United Arab Emirates' 'United Kingdom' 'USA' 'World']\n",
      "\n",
      "category's unique values:\n",
      "['Historical']\n",
      "\n",
      "parameter's unique values:\n",
      "['EV sales' 'EV stock share' 'EV sales share' 'EV stock'\n",
      " 'Electricity demand' 'Oil displacement Mbd'\n",
      " 'Oil displacement, million lge']\n",
      "\n",
      "mode's unique values:\n",
      "['Cars']\n",
      "\n",
      "powertrain's unique values:\n",
      "['BEV' 'EV' 'PHEV' 'FCEV']\n",
      "\n",
      "year's unique values:\n",
      "[2011 2012 2013 2014 2015 2016 2017 2018 2019 2020 2021 2022 2023 2010]\n",
      "\n",
      "unit's unique values:\n",
      "['Vehicles' 'percent' 'GWh' 'Milion barrels per day'\n",
      " 'Oil displacement, million lge']\n",
      "\n"
     ]
    }
   ],
   "source": [
    "columns = ['region', 'category', 'parameter', 'mode', 'powertrain', 'year', 'unit']\n",
    "\n",
    "for column in columns:\n",
    "    print(f\"{column}'s unique values:\\n{df[column].unique()}\\n\")"
   ]
  },
  {
   "cell_type": "markdown",
   "id": "a540f10b",
   "metadata": {},
   "source": [
    "Since both the \"category\" and the \"mode\" columns do not add any meaningful information to the database, it is safe to say we can drop them entirely from it, keeping in mind that all data is based on actual recorded measurements, and that all the vehicles present in the database are EV cars."
   ]
  },
  {
   "cell_type": "code",
   "execution_count": 24,
   "id": "4702c9e2",
   "metadata": {},
   "outputs": [],
   "source": [
    "df = df.drop(columns=['category', 'mode'])"
   ]
  },
  {
   "cell_type": "markdown",
   "id": "a900f848",
   "metadata": {},
   "source": [
    "Additionally, since we are analysing only EV sales and their share in the market overall, it is safe to assume there is more information stored within the database than we need. Hence, it is necessary to clean up the data to keep only what is currently relevant for our study."
   ]
  },
  {
   "cell_type": "code",
   "execution_count": 34,
   "id": "82b522bc",
   "metadata": {},
   "outputs": [
    {
     "data": {
      "text/plain": [
       "array(['Vehicles', 'percent'], dtype=object)"
      ]
     },
     "execution_count": 34,
     "metadata": {},
     "output_type": "execute_result"
    }
   ],
   "source": [
    "# Method A: By keeping only rows where the boolean returns \"True\"\n",
    "units_to_remove = ['GWh', 'Milion barrels per day', 'Oil displacement, million lge']\n",
    "df_units_cleaned = df[~df['unit'].isin(units_to_remove)]\n",
    "# '~' negates the condition: it keeps only rows NOT containing unwanted units\n",
    "df_units_cleaned['unit'].unique()"
   ]
  },
  {
   "cell_type": "code",
   "execution_count": 35,
   "id": "59915053",
   "metadata": {},
   "outputs": [
    {
     "data": {
      "text/plain": [
       "array(['EV sales', 'EV stock share', 'EV sales share', 'EV stock'],\n",
       "      dtype=object)"
      ]
     },
     "execution_count": 35,
     "metadata": {},
     "output_type": "execute_result"
    }
   ],
   "source": [
    "# Method B: By creating a copy only with the rows we want to keep\n",
    "ev_parameters = ['EV sales', 'EV stock', 'EV sales share', 'EV stock share']\n",
    "df_clean = df_units_cleaned[df_units_cleaned['parameter'].isin(ev_parameters)].copy()\n",
    "df_clean['parameter'].unique()"
   ]
  },
  {
   "cell_type": "markdown",
   "id": "11aec638",
   "metadata": {},
   "source": [
    "Note: Since both are directly correlated, by using only one of the previous steps the database is already cleant. This is only for demonstration purposes."
   ]
  },
  {
   "cell_type": "code",
   "execution_count": 36,
   "id": "6fde4845",
   "metadata": {},
   "outputs": [
    {
     "data": {
      "text/html": [
       "<div>\n",
       "<style scoped>\n",
       "    .dataframe tbody tr th:only-of-type {\n",
       "        vertical-align: middle;\n",
       "    }\n",
       "\n",
       "    .dataframe tbody tr th {\n",
       "        vertical-align: top;\n",
       "    }\n",
       "\n",
       "    .dataframe thead th {\n",
       "        text-align: right;\n",
       "    }\n",
       "</style>\n",
       "<table border=\"1\" class=\"dataframe\">\n",
       "  <thead>\n",
       "    <tr style=\"text-align: right;\">\n",
       "      <th></th>\n",
       "      <th>region</th>\n",
       "      <th>parameter</th>\n",
       "      <th>powertrain</th>\n",
       "      <th>year</th>\n",
       "      <th>unit</th>\n",
       "      <th>value</th>\n",
       "    </tr>\n",
       "  </thead>\n",
       "  <tbody>\n",
       "    <tr>\n",
       "      <th>4</th>\n",
       "      <td>Australia</td>\n",
       "      <td>EV stock</td>\n",
       "      <td>BEV</td>\n",
       "      <td>2012</td>\n",
       "      <td>Vehicles</td>\n",
       "      <td>220.0000</td>\n",
       "    </tr>\n",
       "    <tr>\n",
       "      <th>5</th>\n",
       "      <td>Australia</td>\n",
       "      <td>EV stock</td>\n",
       "      <td>PHEV</td>\n",
       "      <td>2012</td>\n",
       "      <td>Vehicles</td>\n",
       "      <td>80.0000</td>\n",
       "    </tr>\n",
       "    <tr>\n",
       "      <th>6</th>\n",
       "      <td>Australia</td>\n",
       "      <td>EV sales</td>\n",
       "      <td>PHEV</td>\n",
       "      <td>2012</td>\n",
       "      <td>Vehicles</td>\n",
       "      <td>80.0000</td>\n",
       "    </tr>\n",
       "    <tr>\n",
       "      <th>7</th>\n",
       "      <td>Australia</td>\n",
       "      <td>EV sales share</td>\n",
       "      <td>EV</td>\n",
       "      <td>2012</td>\n",
       "      <td>percent</td>\n",
       "      <td>0.0300</td>\n",
       "    </tr>\n",
       "    <tr>\n",
       "      <th>8</th>\n",
       "      <td>Australia</td>\n",
       "      <td>EV stock share</td>\n",
       "      <td>EV</td>\n",
       "      <td>2012</td>\n",
       "      <td>percent</td>\n",
       "      <td>0.0024</td>\n",
       "    </tr>\n",
       "    <tr>\n",
       "      <th>9</th>\n",
       "      <td>Australia</td>\n",
       "      <td>EV sales</td>\n",
       "      <td>BEV</td>\n",
       "      <td>2012</td>\n",
       "      <td>Vehicles</td>\n",
       "      <td>170.0000</td>\n",
       "    </tr>\n",
       "  </tbody>\n",
       "</table>\n",
       "</div>"
      ],
      "text/plain": [
       "      region       parameter powertrain  year      unit     value\n",
       "4  Australia        EV stock        BEV  2012  Vehicles  220.0000\n",
       "5  Australia        EV stock       PHEV  2012  Vehicles   80.0000\n",
       "6  Australia        EV sales       PHEV  2012  Vehicles   80.0000\n",
       "7  Australia  EV sales share         EV  2012   percent    0.0300\n",
       "8  Australia  EV stock share         EV  2012   percent    0.0024\n",
       "9  Australia        EV sales        BEV  2012  Vehicles  170.0000"
      ]
     },
     "execution_count": 36,
     "metadata": {},
     "output_type": "execute_result"
    }
   ],
   "source": [
    "df_clean[(df_clean['region']=='Australia') & (df_clean['year']==2012)]"
   ]
  },
  {
   "cell_type": "markdown",
   "id": "3a3a5629",
   "metadata": {},
   "source": [
    "In the previous cell, we can observe that there are two different key units in this database to differenciate — Vehicle counts (physical stock and sales) and Percentages, over the total population of vehicles. The two units cannot be superposed, so it is necessary to separate them in two different sub-dataframes to analyse individually."
   ]
  },
  {
   "cell_type": "code",
   "execution_count": 17,
   "id": "0a4fc86f",
   "metadata": {},
   "outputs": [],
   "source": [
    "df_vehicles = df[df['unit'] == 'Vehicles']\n",
    "df_percent = df[df['unit'] == 'percent']"
   ]
  },
  {
   "cell_type": "markdown",
   "id": "7fe1d003",
   "metadata": {},
   "source": [
    "Let's see what powertrain counts can be observed in the database for vehicles sold, so we can get an idea of what categories we can find:"
   ]
  },
  {
   "cell_type": "code",
   "execution_count": 20,
   "id": "11a6842e",
   "metadata": {},
   "outputs": [
    {
     "data": {
      "text/plain": [
       "powertrain\n",
       "BEV     1078\n",
       "PHEV     922\n",
       "FCEV     487\n",
       "Name: count, dtype: int64"
      ]
     },
     "execution_count": 20,
     "metadata": {},
     "output_type": "execute_result"
    }
   ],
   "source": [
    "df_vehicles['powertrain'].value_counts()"
   ]
  },
  {
   "cell_type": "markdown",
   "id": "34f1e7b9",
   "metadata": {},
   "source": [
    "If we do the same with the newly created df_percent DF, we can observe that only one category 'EV' appears. That's because an electric vehicle usually comprehends any vehicle that can move fully on battery power, and PHEVs can do so even if the main power is usually the ICE engine. "
   ]
  },
  {
   "cell_type": "code",
   "execution_count": 21,
   "id": "9fb4707a",
   "metadata": {},
   "outputs": [
    {
     "data": {
      "text/plain": [
       "powertrain\n",
       "EV    1068\n",
       "Name: count, dtype: int64"
      ]
     },
     "execution_count": 21,
     "metadata": {},
     "output_type": "execute_result"
    }
   ],
   "source": [
    "df_percent['powertrain'].value_counts()"
   ]
  },
  {
   "cell_type": "markdown",
   "id": "c32052e1",
   "metadata": {},
   "source": [
    "### 1. Vehicle Sales"
   ]
  },
  {
   "cell_type": "code",
   "execution_count": 22,
   "id": "0d51bafa",
   "metadata": {},
   "outputs": [
    {
     "data": {
      "text/plain": [
       "parameter\n",
       "EV sales    1342\n",
       "EV stock    1145\n",
       "Name: count, dtype: int64"
      ]
     },
     "execution_count": 22,
     "metadata": {},
     "output_type": "execute_result"
    }
   ],
   "source": [
    "df_vehicles['parameter'].value_counts()"
   ]
  },
  {
   "cell_type": "markdown",
   "id": "99d3be85",
   "metadata": {},
   "source": [
    "As we can observe, the database contains two distinct parameters for measuring electric vehicles: EV stock and EV sales. EV stock represents the total number of electric vehicles available in a country at a given time, while EV sales represent the number of vehicles actually sold during a specific period. Naturally, sales numbers should always be lower than stock, but analyzing the gap between them over recent years can offer valuable insights into the market’s growth dynamics and saturation levels.\n",
    "\n",
    "The following distinction will be made, hence, to accomodate these two different data types."
   ]
  },
  {
   "cell_type": "code",
   "execution_count": 30,
   "id": "cb22994c",
   "metadata": {},
   "outputs": [],
   "source": [
    "df_vehicles_sales = df_vehicles[df_vehicles['parameter'] == 'EV sales']\n",
    "df_vehicles_stock = df_vehicles[df_vehicles['parameter'] == 'EV stock']"
   ]
  },
  {
   "cell_type": "code",
   "execution_count": null,
   "id": "17631f77",
   "metadata": {},
   "outputs": [
    {
     "data": {
      "text/html": [
       "<div>\n",
       "<style scoped>\n",
       "    .dataframe tbody tr th:only-of-type {\n",
       "        vertical-align: middle;\n",
       "    }\n",
       "\n",
       "    .dataframe tbody tr th {\n",
       "        vertical-align: top;\n",
       "    }\n",
       "\n",
       "    .dataframe thead th {\n",
       "        text-align: right;\n",
       "    }\n",
       "</style>\n",
       "<table border=\"1\" class=\"dataframe\">\n",
       "  <thead>\n",
       "    <tr style=\"text-align: right;\">\n",
       "      <th></th>\n",
       "      <th>region</th>\n",
       "      <th>category</th>\n",
       "      <th>parameter</th>\n",
       "      <th>mode</th>\n",
       "      <th>powertrain</th>\n",
       "      <th>year</th>\n",
       "      <th>unit</th>\n",
       "      <th>value</th>\n",
       "    </tr>\n",
       "  </thead>\n",
       "  <tbody>\n",
       "    <tr>\n",
       "      <th>0</th>\n",
       "      <td>Australia</td>\n",
       "      <td>Historical</td>\n",
       "      <td>EV sales</td>\n",
       "      <td>Cars</td>\n",
       "      <td>BEV</td>\n",
       "      <td>2011</td>\n",
       "      <td>Vehicles</td>\n",
       "      <td>49.0</td>\n",
       "    </tr>\n",
       "    <tr>\n",
       "      <th>6</th>\n",
       "      <td>Australia</td>\n",
       "      <td>Historical</td>\n",
       "      <td>EV sales</td>\n",
       "      <td>Cars</td>\n",
       "      <td>PHEV</td>\n",
       "      <td>2012</td>\n",
       "      <td>Vehicles</td>\n",
       "      <td>80.0</td>\n",
       "    </tr>\n",
       "    <tr>\n",
       "      <th>9</th>\n",
       "      <td>Australia</td>\n",
       "      <td>Historical</td>\n",
       "      <td>EV sales</td>\n",
       "      <td>Cars</td>\n",
       "      <td>BEV</td>\n",
       "      <td>2012</td>\n",
       "      <td>Vehicles</td>\n",
       "      <td>170.0</td>\n",
       "    </tr>\n",
       "    <tr>\n",
       "      <th>10</th>\n",
       "      <td>Australia</td>\n",
       "      <td>Historical</td>\n",
       "      <td>EV sales</td>\n",
       "      <td>Cars</td>\n",
       "      <td>BEV</td>\n",
       "      <td>2013</td>\n",
       "      <td>Vehicles</td>\n",
       "      <td>190.0</td>\n",
       "    </tr>\n",
       "    <tr>\n",
       "      <th>13</th>\n",
       "      <td>Australia</td>\n",
       "      <td>Historical</td>\n",
       "      <td>EV sales</td>\n",
       "      <td>Cars</td>\n",
       "      <td>PHEV</td>\n",
       "      <td>2013</td>\n",
       "      <td>Vehicles</td>\n",
       "      <td>100.0</td>\n",
       "    </tr>\n",
       "    <tr>\n",
       "      <th>...</th>\n",
       "      <td>...</td>\n",
       "      <td>...</td>\n",
       "      <td>...</td>\n",
       "      <td>...</td>\n",
       "      <td>...</td>\n",
       "      <td>...</td>\n",
       "      <td>...</td>\n",
       "      <td>...</td>\n",
       "    </tr>\n",
       "    <tr>\n",
       "      <th>3781</th>\n",
       "      <td>World</td>\n",
       "      <td>Historical</td>\n",
       "      <td>EV sales</td>\n",
       "      <td>Cars</td>\n",
       "      <td>FCEV</td>\n",
       "      <td>2022</td>\n",
       "      <td>Vehicles</td>\n",
       "      <td>15000.0</td>\n",
       "    </tr>\n",
       "    <tr>\n",
       "      <th>3783</th>\n",
       "      <td>World</td>\n",
       "      <td>Historical</td>\n",
       "      <td>EV sales</td>\n",
       "      <td>Cars</td>\n",
       "      <td>PHEV</td>\n",
       "      <td>2022</td>\n",
       "      <td>Vehicles</td>\n",
       "      <td>2900000.0</td>\n",
       "    </tr>\n",
       "    <tr>\n",
       "      <th>3788</th>\n",
       "      <td>World</td>\n",
       "      <td>Historical</td>\n",
       "      <td>EV sales</td>\n",
       "      <td>Cars</td>\n",
       "      <td>PHEV</td>\n",
       "      <td>2023</td>\n",
       "      <td>Vehicles</td>\n",
       "      <td>4300000.0</td>\n",
       "    </tr>\n",
       "    <tr>\n",
       "      <th>3792</th>\n",
       "      <td>World</td>\n",
       "      <td>Historical</td>\n",
       "      <td>EV sales</td>\n",
       "      <td>Cars</td>\n",
       "      <td>FCEV</td>\n",
       "      <td>2023</td>\n",
       "      <td>Vehicles</td>\n",
       "      <td>8900.0</td>\n",
       "    </tr>\n",
       "    <tr>\n",
       "      <th>3794</th>\n",
       "      <td>World</td>\n",
       "      <td>Historical</td>\n",
       "      <td>EV sales</td>\n",
       "      <td>Cars</td>\n",
       "      <td>BEV</td>\n",
       "      <td>2023</td>\n",
       "      <td>Vehicles</td>\n",
       "      <td>9500000.0</td>\n",
       "    </tr>\n",
       "  </tbody>\n",
       "</table>\n",
       "<p>1342 rows × 8 columns</p>\n",
       "</div>"
      ],
      "text/plain": [
       "         region    category parameter  mode powertrain  year      unit  \\\n",
       "0     Australia  Historical  EV sales  Cars        BEV  2011  Vehicles   \n",
       "6     Australia  Historical  EV sales  Cars       PHEV  2012  Vehicles   \n",
       "9     Australia  Historical  EV sales  Cars        BEV  2012  Vehicles   \n",
       "10    Australia  Historical  EV sales  Cars        BEV  2013  Vehicles   \n",
       "13    Australia  Historical  EV sales  Cars       PHEV  2013  Vehicles   \n",
       "...         ...         ...       ...   ...        ...   ...       ...   \n",
       "3781      World  Historical  EV sales  Cars       FCEV  2022  Vehicles   \n",
       "3783      World  Historical  EV sales  Cars       PHEV  2022  Vehicles   \n",
       "3788      World  Historical  EV sales  Cars       PHEV  2023  Vehicles   \n",
       "3792      World  Historical  EV sales  Cars       FCEV  2023  Vehicles   \n",
       "3794      World  Historical  EV sales  Cars        BEV  2023  Vehicles   \n",
       "\n",
       "          value  \n",
       "0          49.0  \n",
       "6          80.0  \n",
       "9         170.0  \n",
       "10        190.0  \n",
       "13        100.0  \n",
       "...         ...  \n",
       "3781    15000.0  \n",
       "3783  2900000.0  \n",
       "3788  4300000.0  \n",
       "3792     8900.0  \n",
       "3794  9500000.0  \n",
       "\n",
       "[1342 rows x 8 columns]"
      ]
     },
     "execution_count": 31,
     "metadata": {},
     "output_type": "execute_result"
    }
   ],
   "source": [
    "df_vehicles_sales"
   ]
  },
  {
   "cell_type": "markdown",
   "id": "38044023",
   "metadata": {},
   "source": []
  },
  {
   "cell_type": "code",
   "execution_count": null,
   "id": "9ea13c49",
   "metadata": {},
   "outputs": [],
   "source": [
    "df_percent_sales = df_percent[df_percent['parameter'] == 'EV sales share']\n",
    "df_percent_stock = df_percent[df_percent['parameter'] == 'EV stock share']"
   ]
  },
  {
   "cell_type": "markdown",
   "id": "06efc3b7",
   "metadata": {},
   "source": [
    "# 1. Introduction\n",
    "# 2. Dataset Overview\n",
    "# 3. Cleaning + Preparation\n",
    "# 4. Key Questions\n",
    "# 5. Exploratory Visualizations\n",
    "# 6. Insights + Observations\n",
    "# 7. Final Thoughts / Recommendations\n"
   ]
  }
 ],
 "metadata": {
  "kernelspec": {
   "display_name": ".venv (3.13.2)",
   "language": "python",
   "name": "python3"
  },
  "language_info": {
   "codemirror_mode": {
    "name": "ipython",
    "version": 3
   },
   "file_extension": ".py",
   "mimetype": "text/x-python",
   "name": "python",
   "nbconvert_exporter": "python",
   "pygments_lexer": "ipython3",
   "version": "3.13.2"
  }
 },
 "nbformat": 4,
 "nbformat_minor": 5
}
